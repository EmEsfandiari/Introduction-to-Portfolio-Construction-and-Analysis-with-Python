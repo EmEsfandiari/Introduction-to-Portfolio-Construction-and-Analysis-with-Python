{
 "cells": [
  {
   "cell_type": "markdown",
   "metadata": {},
   "source": [
    "# N-Asset Efficient Frontier"
   ]
  },
  {
   "cell_type": "code",
   "execution_count": 48,
   "metadata": {},
   "outputs": [
    {
     "name": "stdout",
     "output_type": "stream",
     "text": [
      "The autoreload extension is already loaded. To reload it, use:\n",
      "  %reload_ext autoreload\n"
     ]
    }
   ],
   "source": [
    "%load_ext autoreload\n",
    "%autoreload 2\n",
    "%matplotlib inline\n",
    "import pandas as pd\n",
    "import edhec_risk_kit as erk\n",
    "import numpy as np\n",
    "import matplotlib"
   ]
  },
  {
   "cell_type": "code",
   "execution_count": 37,
   "metadata": {},
   "outputs": [],
   "source": [
    "ind = erk.get_ind_returns()\n",
    "er = erk.annualize_rets(ind['1996':'2000'],12)\n",
    "cov = ind['1996':'2000'].cov()"
   ]
  },
  {
   "cell_type": "code",
   "execution_count": 38,
   "metadata": {},
   "outputs": [
    {
     "ename": "SyntaxError",
     "evalue": "invalid syntax (<ipython-input-38-37ebc1ddd15d>, line 5)",
     "output_type": "error",
     "traceback": [
      "\u001b[1;36m  File \u001b[1;32m\"<ipython-input-38-37ebc1ddd15d>\"\u001b[1;36m, line \u001b[1;32m5\u001b[0m\n\u001b[1;33m    weights = minimize_vol(target_return)???\u001b[0m\n\u001b[1;37m                                         ^\u001b[0m\n\u001b[1;31mSyntaxError\u001b[0m\u001b[1;31m:\u001b[0m invalid syntax\n"
     ]
    }
   ],
   "source": [
    "\n",
    "def plot_ef(n_points, er, cov, style = \".-\"):\n",
    "    \"\"\"\n",
    "    Plots the 2-asset efficient frontier\n",
    "    \"\"\"\n",
    "    weights = minimize_vol(target_return)???\n",
    "    rets = [portfolio_ret(w,er) for w in weights]\n",
    "    vols = [portfolio_vol(w,cov) for w in weights]\n",
    "    ef = pd.DataFrame({\n",
    "        \"Returns\": rets,\n",
    "        \"Volatility\": vols\n",
    "    })\n",
    "    return ef.plot.line(x = \"Volatility\", y = \"Returns\", style = style)\n"
   ]
  },
  {
   "cell_type": "code",
   "execution_count": 39,
   "metadata": {},
   "outputs": [],
   "source": [
    "from scipy.optimize import minimize"
   ]
  },
  {
   "cell_type": "code",
   "execution_count": 40,
   "metadata": {},
   "outputs": [
    {
     "data": {
      "text/plain": [
       "<AxesSubplot:xlabel='Volatility'>"
      ]
     },
     "execution_count": 40,
     "metadata": {},
     "output_type": "execute_result"
    },
    {
     "data": {
      "image/png": "[encoded data removed]",
      "text/plain": [
       "<Figure size 432x288 with 1 Axes>"
      ]
     },
     "metadata": {
      "needs_background": "light"
     },
     "output_type": "display_data"
    }
   ],
   "source": [
    "l = ['Games', 'Fin']\n",
    "erk.plot_ef2(20,er[l],cov.loc[l,l])"
   ]
  },
  {
   "cell_type": "code",
   "execution_count": 41,
   "metadata": {},
   "outputs": [],
   "source": [
    "import numpy as np\n",
    "\n",
    "def minimize_vol(target_return, er, cov):\n",
    "    \"\"\"\n",
    "    target_return -> W\n",
    "    \"\"\"\n",
    "    n = er.shape[0]\n",
    "    init_guess = np.repeat(1/n , n)\n",
    "    bounds = ((0.0, 1.0),) * n\n",
    "    return_is_target = {\n",
    "        \"type\": \"eq\",\n",
    "        \"args\": (er,),\n",
    "        \"fun\": lambda weights, er: target_return - erk.portfolio_ret(weights, er)\n",
    "    }\n",
    "    weights_sum_to_1 = {\n",
    "        \"type\": \"eq\",\n",
    "        \"fun\": lambda weights: np.sum(weights) - 1\n",
    "    }\n",
    "    results = minimize(erk.portfolio_vol,\n",
    "                      init_guess,\n",
    "                      args = (cov,),\n",
    "                      method = \"SLSQP\",\n",
    "                      options = {'disp': False},\n",
    "                      constraints=(return_is_target, weights_sum_to_1),\n",
    "                      bounds = bounds\n",
    "                      )\n",
    "    return results.x"
   ]
  },
  {
   "cell_type": "code",
   "execution_count": 42,
   "metadata": {},
   "outputs": [
    {
     "data": {
      "text/plain": [
       "['Games', 'Fin']"
      ]
     },
     "execution_count": 42,
     "metadata": {},
     "output_type": "execute_result"
    }
   ],
   "source": [
    "l"
   ]
  },
  {
   "cell_type": "code",
   "execution_count": 43,
   "metadata": {},
   "outputs": [
    {
     "data": {
      "text/plain": [
       "0.056163669406706564"
      ]
     },
     "execution_count": 43,
     "metadata": {},
     "output_type": "execute_result"
    }
   ],
   "source": [
    "# test\n",
    "w15 = erk.minimize_vol(0.15,er[l],cov.loc[l,l])\n",
    "vol15 = erk.portfolio_vol(w15, cov.loc[l,l])\n",
    "vol15"
   ]
  },
  {
   "cell_type": "code",
   "execution_count": 44,
   "metadata": {},
   "outputs": [
    {
     "data": {
      "text/plain": [
       "array([0.47287631, 0.52712369])"
      ]
     },
     "execution_count": 44,
     "metadata": {},
     "output_type": "execute_result"
    }
   ],
   "source": [
    "w15"
   ]
  },
  {
   "cell_type": "code",
   "execution_count": 45,
   "metadata": {},
   "outputs": [],
   "source": [
    "def optimal_weights(n_points, er, cov):\n",
    "    \"\"\"\n",
    "    -> list of weights to run the optimizer on the minimize the vol\n",
    "    \"\"\"\n",
    "    targer_rs = np.linspace(er.min(), er.max(), n_points)\n",
    "    weights = [minimize_vol(targer_return,er,cov) for targer_return in targer_rs]\n",
    "    return weights\n",
    "\n",
    "def plot_ef(n_points, er, cov, style = \".-\"):\n",
    "    \"\"\"\n",
    "    Plots the 2-asset efficient frontier\n",
    "    \"\"\"\n",
    "    weights = optimal_weights(n_points, er, cov)\n",
    "    rets = [erk.portfolio_ret(w,er) for w in weights]\n",
    "    vols = [erk.portfolio_vol(w,cov) for w in weights]\n",
    "    ef = pd.DataFrame({\n",
    "        \"Returns\": rets,\n",
    "        \"Volatility\": vols\n",
    "    })\n",
    "    return ef.plot.line(x = \"Volatility\", y = \"Returns\", style = style)\n"
   ]
  },
  {
   "cell_type": "code",
   "execution_count": 53,
   "metadata": {},
   "outputs": [
    {
     "data": {
      "text/plain": [
       "<AxesSubplot:xlabel='Volatility'>"
      ]
     },
     "execution_count": 53,
     "metadata": {},
     "output_type": "execute_result"
    },
    {
     "data": {
      "image/png": "[encoded data removed]",
      "text/plain": [
       "<Figure size 432x288 with 1 Axes>"
      ]
     },
     "metadata": {
      "needs_background": "light"
     },
     "output_type": "display_data"
    }
   ],
   "source": [
    "l = ['Fin', 'Smoke', 'Games', 'Coal']\n",
    "plot_ef(20,er[l],cov.loc[l,l])"
   ]
  },
  {
   "cell_type": "code",
   "execution_count": 54,
   "metadata": {},
   "outputs": [
    {
     "data": {
      "text/plain": [
       "<AxesSubplot:xlabel='Volatility'>"
      ]
     },
     "execution_count": 54,
     "metadata": {},
     "output_type": "execute_result"
    },
    {
     "data": {
      "image/png": "[encoded data removed]",
      "text/plain": [
       "<Figure size 432x288 with 1 Axes>"
      ]
     },
     "metadata": {
      "needs_background": "light"
     },
     "output_type": "display_data"
    }
   ],
   "source": [
    "l = ['Fin', 'Smoke', 'Games', 'Coal']\n",
    "erk.plot_ef(20,er[l],cov.loc[l,l])"
   ]
  },
  {
   "cell_type": "code",
   "execution_count": null,
   "metadata": {},
   "outputs": [],
   "source": []
  }
 ],
 "metadata": {
  "kernelspec": {
   "display_name": "Python 3",
   "language": "python",
   "name": "python3"
  },
  "language_info": {
   "codemirror_mode": {
    "name": "ipython",
    "version": 3
   },
   "file_extension": ".py",
   "mimetype": "text/x-python",
   "name": "python",
   "nbconvert_exporter": "python",
   "pygments_lexer": "ipython3",
   "version": "3.8.5"
  }
 },
 "nbformat": 4,
 "nbformat_minor": 4
}
