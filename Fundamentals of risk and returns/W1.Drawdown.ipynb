{
 "cells": [
  {
   "cell_type": "markdown",
   "metadata": {},
   "source": [
    "# MAX DRAWDOWN"
   ]
  },
  {
   "cell_type": "raw",
   "metadata": {},
   "source": [
    "# It is another measure of risk.\n",
    "# It's the maximum loss from the previous high to subsequentlow"
   ]
  },
  {
   "cell_type": "code",
   "execution_count": 2,
   "metadata": {},
   "outputs": [],
   "source": [
    "import pandas as pd"
   ]
  },
  {
   "cell_type": "code",
   "execution_count": 15,
   "metadata": {},
   "outputs": [
    {
     "data": {
      "text/plain": [
       "<AxesSubplot:>"
      ]
     },
     "execution_count": 15,
     "metadata": {},
     "output_type": "execute_result"
    },
    {
     "data": {
      "image/png": "[encoded data removed]",
      "text/plain": [
       "<Figure size 432x288 with 1 Axes>"
      ]
     },
     "metadata": {
      "needs_background": "light"
     },
     "output_type": "display_data"
    }
   ],
   "source": [
    "returns = pd.read_csv('MyOwn/Portfolios_Formed_on_ME_monthly_EW.csv',\n",
    "                     index_col=0,header=0,parse_dates=True,na_values=-99.99)\n",
    "rets = returns[['Lo 30', 'Hi 30']]\n",
    "rets.columns = ['SmallCap 30', 'LargeCap 30']\n",
    "rets = rets/100\n",
    "rets.plot.line()"
   ]
  },
  {
   "cell_type": "code",
   "execution_count": 16,
   "metadata": {},
   "outputs": [
    {
     "data": {
      "text/html": [
       "<div>\n",
       "<style scoped>\n",
       "    .dataframe tbody tr th:only-of-type {\n",
       "        vertical-align: middle;\n",
       "    }\n",
       "\n",
       "    .dataframe tbody tr th {\n",
       "        vertical-align: top;\n",
       "    }\n",
       "\n",
       "    .dataframe thead th {\n",
       "        text-align: right;\n",
       "    }\n",
       "</style>\n",
       "<table border=\"1\" class=\"dataframe\">\n",
       "  <thead>\n",
       "    <tr style=\"text-align: right;\">\n",
       "      <th></th>\n",
       "      <th>SmallCap 30</th>\n",
       "      <th>LargeCap 30</th>\n",
       "    </tr>\n",
       "  </thead>\n",
       "  <tbody>\n",
       "    <tr>\n",
       "      <th>192607</th>\n",
       "      <td>-0.0043</td>\n",
       "      <td>0.0268</td>\n",
       "    </tr>\n",
       "    <tr>\n",
       "      <th>192608</th>\n",
       "      <td>0.0390</td>\n",
       "      <td>0.0209</td>\n",
       "    </tr>\n",
       "    <tr>\n",
       "      <th>192609</th>\n",
       "      <td>-0.0108</td>\n",
       "      <td>0.0016</td>\n",
       "    </tr>\n",
       "    <tr>\n",
       "      <th>192610</th>\n",
       "      <td>-0.0332</td>\n",
       "      <td>-0.0306</td>\n",
       "    </tr>\n",
       "    <tr>\n",
       "      <th>192611</th>\n",
       "      <td>-0.0046</td>\n",
       "      <td>0.0309</td>\n",
       "    </tr>\n",
       "  </tbody>\n",
       "</table>\n",
       "</div>"
      ],
      "text/plain": [
       "        SmallCap 30  LargeCap 30\n",
       "192607      -0.0043       0.0268\n",
       "192608       0.0390       0.0209\n",
       "192609      -0.0108       0.0016\n",
       "192610      -0.0332      -0.0306\n",
       "192611      -0.0046       0.0309"
      ]
     },
     "execution_count": 16,
     "metadata": {},
     "output_type": "execute_result"
    }
   ],
   "source": [
    "rets.head()"
   ]
  },
  {
   "cell_type": "code",
   "execution_count": 17,
   "metadata": {},
   "outputs": [
    {
     "data": {
      "text/plain": [
       "Int64Index([192607, 192608, 192609, 192610, 192611, 192612, 192701, 192702,\n",
       "            192703, 192704,\n",
       "            ...\n",
       "            201803, 201804, 201805, 201806, 201807, 201808, 201809, 201810,\n",
       "            201811, 201812],\n",
       "           dtype='int64', length=1110)"
      ]
     },
     "execution_count": 17,
     "metadata": {},
     "output_type": "execute_result"
    }
   ],
   "source": [
    "rets.index\n",
    "# we want index to be like time series in monthly periods"
   ]
  },
  {
   "cell_type": "code",
   "execution_count": 18,
   "metadata": {},
   "outputs": [
    {
     "data": {
      "text/plain": [
       "PeriodIndex(['1926-07', '1926-08', '1926-09', '1926-10', '1926-11', '1926-12',\n",
       "             '1927-01', '1927-02', '1927-03', '1927-04',\n",
       "             ...\n",
       "             '2018-03', '2018-04', '2018-05', '2018-06', '2018-07', '2018-08',\n",
       "             '2018-09', '2018-10', '2018-11', '2018-12'],\n",
       "            dtype='period[M]', length=1110, freq='M')"
      ]
     },
     "execution_count": 18,
     "metadata": {},
     "output_type": "execute_result"
    }
   ],
   "source": [
    "rets.index = pd.to_datetime(rets.index,format= '%Y%m')\n",
    "rets.index = rets.index.to_period('M')\n",
    "rets.index"
   ]
  },
  {
   "cell_type": "code",
   "execution_count": 19,
   "metadata": {},
   "outputs": [
    {
     "data": {
      "text/html": [
       "<div>\n",
       "<style scoped>\n",
       "    .dataframe tbody tr th:only-of-type {\n",
       "        vertical-align: middle;\n",
       "    }\n",
       "\n",
       "    .dataframe tbody tr th {\n",
       "        vertical-align: top;\n",
       "    }\n",
       "\n",
       "    .dataframe thead th {\n",
       "        text-align: right;\n",
       "    }\n",
       "</style>\n",
       "<table border=\"1\" class=\"dataframe\">\n",
       "  <thead>\n",
       "    <tr style=\"text-align: right;\">\n",
       "      <th></th>\n",
       "      <th>SmallCap 30</th>\n",
       "      <th>LargeCap 30</th>\n",
       "    </tr>\n",
       "  </thead>\n",
       "  <tbody>\n",
       "    <tr>\n",
       "      <th>2008-01</th>\n",
       "      <td>-0.0511</td>\n",
       "      <td>-0.0511</td>\n",
       "    </tr>\n",
       "    <tr>\n",
       "      <th>2008-02</th>\n",
       "      <td>-0.0264</td>\n",
       "      <td>-0.0287</td>\n",
       "    </tr>\n",
       "    <tr>\n",
       "      <th>2008-03</th>\n",
       "      <td>-0.0308</td>\n",
       "      <td>-0.0189</td>\n",
       "    </tr>\n",
       "    <tr>\n",
       "      <th>2008-04</th>\n",
       "      <td>0.0095</td>\n",
       "      <td>0.0544</td>\n",
       "    </tr>\n",
       "    <tr>\n",
       "      <th>2008-05</th>\n",
       "      <td>0.0311</td>\n",
       "      <td>0.0282</td>\n",
       "    </tr>\n",
       "    <tr>\n",
       "      <th>2008-06</th>\n",
       "      <td>-0.0916</td>\n",
       "      <td>-0.1016</td>\n",
       "    </tr>\n",
       "    <tr>\n",
       "      <th>2008-07</th>\n",
       "      <td>0.0114</td>\n",
       "      <td>-0.0211</td>\n",
       "    </tr>\n",
       "    <tr>\n",
       "      <th>2008-08</th>\n",
       "      <td>0.0202</td>\n",
       "      <td>0.0100</td>\n",
       "    </tr>\n",
       "    <tr>\n",
       "      <th>2008-09</th>\n",
       "      <td>-0.1118</td>\n",
       "      <td>-0.1262</td>\n",
       "    </tr>\n",
       "    <tr>\n",
       "      <th>2008-10</th>\n",
       "      <td>-0.2118</td>\n",
       "      <td>-0.2076</td>\n",
       "    </tr>\n",
       "    <tr>\n",
       "      <th>2008-11</th>\n",
       "      <td>-0.1552</td>\n",
       "      <td>-0.0944</td>\n",
       "    </tr>\n",
       "    <tr>\n",
       "      <th>2008-12</th>\n",
       "      <td>0.0209</td>\n",
       "      <td>0.0332</td>\n",
       "    </tr>\n",
       "  </tbody>\n",
       "</table>\n",
       "</div>"
      ],
      "text/plain": [
       "         SmallCap 30  LargeCap 30\n",
       "2008-01      -0.0511      -0.0511\n",
       "2008-02      -0.0264      -0.0287\n",
       "2008-03      -0.0308      -0.0189\n",
       "2008-04       0.0095       0.0544\n",
       "2008-05       0.0311       0.0282\n",
       "2008-06      -0.0916      -0.1016\n",
       "2008-07       0.0114      -0.0211\n",
       "2008-08       0.0202       0.0100\n",
       "2008-09      -0.1118      -0.1262\n",
       "2008-10      -0.2118      -0.2076\n",
       "2008-11      -0.1552      -0.0944\n",
       "2008-12       0.0209       0.0332"
      ]
     },
     "execution_count": 19,
     "metadata": {},
     "output_type": "execute_result"
    }
   ],
   "source": [
    "rets['2008']"
   ]
  },
  {
   "cell_type": "markdown",
   "metadata": {},
   "source": [
    "# Compute Drawdowns\n",
    "1. Compute a Wealth Index\n",
    "2. Compute previous peaks\n",
    "3. compute drawdowns - which is the wealth value as a percentage of the previous peak"
   ]
  },
  {
   "cell_type": "code",
   "execution_count": 20,
   "metadata": {},
   "outputs": [],
   "source": [
    "# wealth index is the value of the portfolio as it compounds over time\n",
    "wealth_index = 1000*(1+rets['LargeCap 30']).cumprod()"
   ]
  },
  {
   "cell_type": "code",
   "execution_count": 21,
   "metadata": {},
   "outputs": [
    {
     "data": {
      "text/plain": [
       "1926-07    1026.800000\n",
       "1926-08    1048.260120\n",
       "1926-09    1049.937336\n",
       "1926-10    1017.809254\n",
       "1926-11    1049.259560\n",
       "Freq: M, Name: LargeCap 30, dtype: float64"
      ]
     },
     "execution_count": 21,
     "metadata": {},
     "output_type": "execute_result"
    }
   ],
   "source": [
    "wealth_index.head()"
   ]
  },
  {
   "cell_type": "code",
   "execution_count": 22,
   "metadata": {},
   "outputs": [
    {
     "data": {
      "text/plain": [
       "<AxesSubplot:>"
      ]
     },
     "execution_count": 22,
     "metadata": {},
     "output_type": "execute_result"
    },
    {
     "data": {
      "image/png": "[encoded data removed]",
      "text/plain": [
       "<Figure size 432x288 with 1 Axes>"
      ]
     },
     "metadata": {
      "needs_background": "light"
     },
     "output_type": "display_data"
    }
   ],
   "source": [
    "wealth_index.plot.line()"
   ]
  },
  {
   "cell_type": "code",
   "execution_count": 25,
   "metadata": {},
   "outputs": [
    {
     "data": {
      "text/plain": [
       "<AxesSubplot:>"
      ]
     },
     "execution_count": 25,
     "metadata": {},
     "output_type": "execute_result"
    },
    {
     "data": {
      "image/png": "[encoded data removed]",
      "text/plain": [
       "<Figure size 432x288 with 1 Axes>"
      ]
     },
     "metadata": {
      "needs_background": "light"
     },
     "output_type": "display_data"
    }
   ],
   "source": [
    "previous_peaks = wealth_index.cummax()\n",
    "previous_peaks.plot()"
   ]
  },
  {
   "cell_type": "code",
   "execution_count": 26,
   "metadata": {},
   "outputs": [
    {
     "data": {
      "text/plain": [
       "<AxesSubplot:>"
      ]
     },
     "execution_count": 26,
     "metadata": {},
     "output_type": "execute_result"
    },
    {
     "data": {
      "image/png": "[encoded data removed]",
      "text/plain": [
       "<Figure size 432x288 with 1 Axes>"
      ]
     },
     "metadata": {
      "needs_background": "light"
     },
     "output_type": "display_data"
    }
   ],
   "source": [
    "drawdown = (wealth_index - previous_peaks)/previous_peaks\n",
    "drawdown.plot()"
   ]
  },
  {
   "cell_type": "code",
   "execution_count": 33,
   "metadata": {},
   "outputs": [
    {
     "data": {
      "text/plain": [
       "Period('2009-02', 'M')"
      ]
     },
     "execution_count": 33,
     "metadata": {},
     "output_type": "execute_result"
    }
   ],
   "source": [
    "drawdown['1975':].idxmin()"
   ]
  },
  {
   "cell_type": "code",
   "execution_count": 35,
   "metadata": {},
   "outputs": [
    {
     "data": {
      "text/plain": [
       "Period('1932-05', 'M')"
      ]
     },
     "execution_count": 35,
     "metadata": {},
     "output_type": "execute_result"
    }
   ],
   "source": [
    "drawdown.idxmin()"
   ]
  },
  {
   "cell_type": "code",
   "execution_count": 34,
   "metadata": {},
   "outputs": [
    {
     "data": {
      "text/plain": [
       "Period('2009-02', 'M')"
      ]
     },
     "execution_count": 34,
     "metadata": {},
     "output_type": "execute_result"
    }
   ],
   "source": [
    "drawdown['1990':].idxmin()"
   ]
  },
  {
   "cell_type": "code",
   "execution_count": 36,
   "metadata": {},
   "outputs": [],
   "source": [
    "def drawdown(return_series: pd.Series):\n",
    "    \"\"\"\"\n",
    "    Takes a time-series of asset returns\n",
    "    Computes and returns a DataFrame that contains:\n",
    "    the wealth index\n",
    "    the previous peaks\n",
    "    percent drawdowns\n",
    "    \"\"\"\n",
    "    wealth_index = 1000*(return_series+1).cumprod()\n",
    "    previous_peaks = wealth_index.cummax()\n",
    "    drawdowns = (wealth_index - previous_peaks)/previous_peaks\n",
    "    return pd.DataFrame({\n",
    "        'Wealth': wealth_index,\n",
    "        'Peaks': previous_peaks,\n",
    "        'Drawdown':drawdowns\n",
    "    })\n",
    "    "
   ]
  },
  {
   "cell_type": "code",
   "execution_count": 37,
   "metadata": {},
   "outputs": [
    {
     "data": {
      "text/html": [
       "<div>\n",
       "<style scoped>\n",
       "    .dataframe tbody tr th:only-of-type {\n",
       "        vertical-align: middle;\n",
       "    }\n",
       "\n",
       "    .dataframe tbody tr th {\n",
       "        vertical-align: top;\n",
       "    }\n",
       "\n",
       "    .dataframe thead th {\n",
       "        text-align: right;\n",
       "    }\n",
       "</style>\n",
       "<table border=\"1\" class=\"dataframe\">\n",
       "  <thead>\n",
       "    <tr style=\"text-align: right;\">\n",
       "      <th></th>\n",
       "      <th>Wealth</th>\n",
       "      <th>Peaks</th>\n",
       "      <th>Drawdown</th>\n",
       "    </tr>\n",
       "  </thead>\n",
       "  <tbody>\n",
       "    <tr>\n",
       "      <th>1926-07</th>\n",
       "      <td>1026.800000</td>\n",
       "      <td>1026.800000</td>\n",
       "      <td>0.000000</td>\n",
       "    </tr>\n",
       "    <tr>\n",
       "      <th>1926-08</th>\n",
       "      <td>1048.260120</td>\n",
       "      <td>1048.260120</td>\n",
       "      <td>0.000000</td>\n",
       "    </tr>\n",
       "    <tr>\n",
       "      <th>1926-09</th>\n",
       "      <td>1049.937336</td>\n",
       "      <td>1049.937336</td>\n",
       "      <td>0.000000</td>\n",
       "    </tr>\n",
       "    <tr>\n",
       "      <th>1926-10</th>\n",
       "      <td>1017.809254</td>\n",
       "      <td>1049.937336</td>\n",
       "      <td>-0.030600</td>\n",
       "    </tr>\n",
       "    <tr>\n",
       "      <th>1926-11</th>\n",
       "      <td>1049.259560</td>\n",
       "      <td>1049.937336</td>\n",
       "      <td>-0.000646</td>\n",
       "    </tr>\n",
       "  </tbody>\n",
       "</table>\n",
       "</div>"
      ],
      "text/plain": [
       "              Wealth        Peaks  Drawdown\n",
       "1926-07  1026.800000  1026.800000  0.000000\n",
       "1926-08  1048.260120  1048.260120  0.000000\n",
       "1926-09  1049.937336  1049.937336  0.000000\n",
       "1926-10  1017.809254  1049.937336 -0.030600\n",
       "1926-11  1049.259560  1049.937336 -0.000646"
      ]
     },
     "execution_count": 37,
     "metadata": {},
     "output_type": "execute_result"
    }
   ],
   "source": [
    "drawdown(rets['LargeCap 30']).head()"
   ]
  },
  {
   "cell_type": "code",
   "execution_count": 38,
   "metadata": {},
   "outputs": [
    {
     "data": {
      "text/html": [
       "<div>\n",
       "<style scoped>\n",
       "    .dataframe tbody tr th:only-of-type {\n",
       "        vertical-align: middle;\n",
       "    }\n",
       "\n",
       "    .dataframe tbody tr th {\n",
       "        vertical-align: top;\n",
       "    }\n",
       "\n",
       "    .dataframe thead th {\n",
       "        text-align: right;\n",
       "    }\n",
       "</style>\n",
       "<table border=\"1\" class=\"dataframe\">\n",
       "  <thead>\n",
       "    <tr style=\"text-align: right;\">\n",
       "      <th></th>\n",
       "      <th>Wealth</th>\n",
       "      <th>Peaks</th>\n",
       "    </tr>\n",
       "  </thead>\n",
       "  <tbody>\n",
       "    <tr>\n",
       "      <th>1926-07</th>\n",
       "      <td>1026.800000</td>\n",
       "      <td>1026.800000</td>\n",
       "    </tr>\n",
       "    <tr>\n",
       "      <th>1926-08</th>\n",
       "      <td>1048.260120</td>\n",
       "      <td>1048.260120</td>\n",
       "    </tr>\n",
       "    <tr>\n",
       "      <th>1926-09</th>\n",
       "      <td>1049.937336</td>\n",
       "      <td>1049.937336</td>\n",
       "    </tr>\n",
       "    <tr>\n",
       "      <th>1926-10</th>\n",
       "      <td>1017.809254</td>\n",
       "      <td>1049.937336</td>\n",
       "    </tr>\n",
       "    <tr>\n",
       "      <th>1926-11</th>\n",
       "      <td>1049.259560</td>\n",
       "      <td>1049.937336</td>\n",
       "    </tr>\n",
       "  </tbody>\n",
       "</table>\n",
       "</div>"
      ],
      "text/plain": [
       "              Wealth        Peaks\n",
       "1926-07  1026.800000  1026.800000\n",
       "1926-08  1048.260120  1048.260120\n",
       "1926-09  1049.937336  1049.937336\n",
       "1926-10  1017.809254  1049.937336\n",
       "1926-11  1049.259560  1049.937336"
      ]
     },
     "execution_count": 38,
     "metadata": {},
     "output_type": "execute_result"
    }
   ],
   "source": [
    "drawdown(rets['LargeCap 30'])[['Wealth','Peaks']].head()"
   ]
  },
  {
   "cell_type": "code",
   "execution_count": 39,
   "metadata": {},
   "outputs": [
    {
     "data": {
      "text/plain": [
       "<AxesSubplot:>"
      ]
     },
     "execution_count": 39,
     "metadata": {},
     "output_type": "execute_result"
    },
    {
     "data": {
      "image/png": "[encoded data removed]",
      "text/plain": [
       "<Figure size 432x288 with 1 Axes>"
      ]
     },
     "metadata": {
      "needs_background": "light"
     },
     "output_type": "display_data"
    }
   ],
   "source": [
    "drawdown(rets['LargeCap 30'])[['Wealth','Peaks']].plot()"
   ]
  },
  {
   "cell_type": "code",
   "execution_count": 41,
   "metadata": {},
   "outputs": [
    {
     "data": {
      "text/plain": [
       "<AxesSubplot:>"
      ]
     },
     "execution_count": 41,
     "metadata": {},
     "output_type": "execute_result"
    },
    {
     "data": {
      "image/png": "[encoded data removed]",
      "text/plain": [
       "<Figure size 432x288 with 1 Axes>"
      ]
     },
     "metadata": {
      "needs_background": "light"
     },
     "output_type": "display_data"
    }
   ],
   "source": [
    "drawdown(rets[:'1950']['LargeCap 30'])[['Wealth','Peaks']].plot()"
   ]
  },
  {
   "cell_type": "code",
   "execution_count": 42,
   "metadata": {},
   "outputs": [
    {
     "data": {
      "text/plain": [
       "-0.8569436338889649"
      ]
     },
     "execution_count": 42,
     "metadata": {},
     "output_type": "execute_result"
    }
   ],
   "source": [
    "drawdown(rets['LargeCap 30'])['Drawdown'].min()"
   ]
  },
  {
   "cell_type": "code",
   "execution_count": 43,
   "metadata": {},
   "outputs": [
    {
     "data": {
      "text/plain": [
       "Period('1932-05', 'M')"
      ]
     },
     "execution_count": 43,
     "metadata": {},
     "output_type": "execute_result"
    }
   ],
   "source": [
    "drawdown(rets['LargeCap 30'])['Drawdown'].idxmin()"
   ]
  },
  {
   "cell_type": "code",
   "execution_count": 44,
   "metadata": {},
   "outputs": [
    {
     "data": {
      "text/plain": [
       "-0.8721407191151277"
      ]
     },
     "execution_count": 44,
     "metadata": {},
     "output_type": "execute_result"
    }
   ],
   "source": [
    "drawdown(rets['SmallCap 30'])['Drawdown'].min()"
   ]
  },
  {
   "cell_type": "code",
   "execution_count": 45,
   "metadata": {},
   "outputs": [
    {
     "data": {
      "text/plain": [
       "Period('1932-05', 'M')"
      ]
     },
     "execution_count": 45,
     "metadata": {},
     "output_type": "execute_result"
    }
   ],
   "source": [
    "drawdown(rets['SmallCap 30'])['Drawdown'].idxmin()"
   ]
  },
  {
   "cell_type": "code",
   "execution_count": 46,
   "metadata": {},
   "outputs": [
    {
     "data": {
      "text/plain": [
       "-0.6855519726762556"
      ]
     },
     "execution_count": 46,
     "metadata": {},
     "output_type": "execute_result"
    }
   ],
   "source": [
    "drawdown(rets['1950':]['SmallCap 30'])['Drawdown'].min()"
   ]
  },
  {
   "cell_type": "code",
   "execution_count": 47,
   "metadata": {},
   "outputs": [
    {
     "data": {
      "text/plain": [
       "Period('1974-12', 'M')"
      ]
     },
     "execution_count": 47,
     "metadata": {},
     "output_type": "execute_result"
    }
   ],
   "source": [
    "drawdown(rets['1950':]['SmallCap 30'])['Drawdown'].idxmin()"
   ]
  },
  {
   "cell_type": "code",
   "execution_count": null,
   "metadata": {},
   "outputs": [],
   "source": []
  }
 ],
 "metadata": {
  "kernelspec": {
   "display_name": "Python 3",
   "language": "python",
   "name": "python3"
  },
  "language_info": {
   "codemirror_mode": {
    "name": "ipython",
    "version": 3
   },
   "file_extension": ".py",
   "mimetype": "text/x-python",
   "name": "python",
   "nbconvert_exporter": "python",
   "pygments_lexer": "ipython3",
   "version": "3.8.5"
  }
 },
 "nbformat": 4,
 "nbformat_minor": 4
}
